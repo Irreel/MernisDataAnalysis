{
 "cells": [
  {
   "cell_type": "code",
   "execution_count": 1,
   "metadata": {},
   "outputs": [],
   "source": [
    "import findspark\n",
    "findspark.init()\n",
    "import numpy as np\n",
    "from pyspark.sql import SparkSession\n",
    "from pyspark.ml.feature import StringIndexer, OneHotEncoder, VectorAssembler, FeatureHasher\n",
    "\n",
    "spark = SparkSession.builder\\\n",
    "                    .appName(\"Assignment2_H2\")\\\n",
    "                    .master(\"local[*]\")\\\n",
    "                    .config('spark.executor.memory','32g')\\\n",
    "                    .config('spark.driver.memory','64g')\\\n",
    "                    .config('spark.driver.maxResultSize','2g')\\\n",
    "                    .config('spark.default.parallelism','300')\\\n",
    "                    .config('spark.network.timeout','500')\\\n",
    "                    .getOrCreate()\n",
    "\n",
    "\n",
    "\n",
    "df = spark.read\\\n",
    "    .format(\"jdbc\")\\\n",
    "    .option(\"url\", \"\")\\\n",
    "    .option(\"dbtable\", \"citizen\") \\\n",
    "    .option(\"user\", \"postgres\")\\\n",
    "    .option(\"password\", \"postgres\")\\\n",
    "    .option(\"driver\", \"org.postgresql.Driver\") \\\n",
    "    .load()"
   ]
  },
  {
   "cell_type": "code",
   "execution_count": 3,
   "metadata": {},
   "outputs": [],
   "source": [
    "# Select a subset of the data\n",
    "df = df.limit(40000)"
   ]
  },
  {
   "cell_type": "code",
   "execution_count": 4,
   "metadata": {},
   "outputs": [
    {
     "name": "stdout",
     "output_type": "stream",
     "text": [
      "root\n",
      " |-- uid: long (nullable = true)\n",
      " |-- national_identifier: long (nullable = true)\n",
      " |-- first: string (nullable = true)\n",
      " |-- last: string (nullable = true)\n",
      " |-- mother_first: string (nullable = true)\n",
      " |-- father_first: string (nullable = true)\n",
      " |-- gender: string (nullable = true)\n",
      " |-- birth_city: string (nullable = true)\n",
      " |-- date_of_birth: date (nullable = true)\n",
      " |-- id_registration_city: string (nullable = true)\n",
      " |-- id_registration_district: string (nullable = true)\n",
      " |-- address_city: string (nullable = true)\n",
      " |-- address_district: string (nullable = true)\n",
      " |-- address_neighborhood: string (nullable = true)\n",
      " |-- street_address: string (nullable = true)\n",
      " |-- door_or_entrance_number: integer (nullable = true)\n",
      " |-- misc: string (nullable = true)\n",
      " |-- year: integer (nullable = true)\n",
      " |-- month: integer (nullable = true)\n",
      " |-- day: integer (nullable = true)\n",
      "\n"
     ]
    }
   ],
   "source": [
    "# Preprocession: Convert the type of columns\n",
    "from pyspark.sql.functions import to_date,year,month,dayofmonth\n",
    "pattern = 'd/M/y'\n",
    "df = df.withColumn('date_of_birth',to_date(df['date_of_birth'],pattern))\n",
    "df = df.withColumn('national_identifier',df.national_identifier.cast('long'))\n",
    "df = df.withColumn('door_or_entrance_number',df.door_or_entrance_number.cast('int'))\n",
    "df = df.withColumn('year', year('date_of_birth'))\n",
    "df = df.withColumn('month', month('date_of_birth'))\n",
    "df = df.withColumn('day', dayofmonth('date_of_birth'))\n",
    "df.printSchema()"
   ]
  },
  {
   "attachments": {},
   "cell_type": "markdown",
   "metadata": {},
   "source": [
    "## H2. Gender prediction model"
   ]
  },
  {
   "cell_type": "code",
   "execution_count": 9,
   "metadata": {},
   "outputs": [],
   "source": [
    "# Index the label\n",
    "label = 'gender'\n",
    "genderIdx = StringIndexer(inputCol=label, outputCol='gender_int', handleInvalid='skip')\n",
    "genderIdxModel = genderIdx.fit(df)\n",
    "df2 = genderIdxModel.transform(df) \n",
    "\n",
    "features2 = 'first'\n",
    "\n",
    "strIdx = StringIndexer(inputCol=features2, outputCol=features2 + '_int', handleInvalid='skip')\n",
    "tmpModel = strIdx.fit(df2)\n",
    "df2 = tmpModel.transform(df2) \n",
    "\n",
    "encoder2 = OneHotEncoder(inputCol=features2 + '_int',outputCol=features2 + '_vec')\n",
    "df2v = encoder2.fit(df2).transform(df2)"
   ]
  },
  {
   "cell_type": "code",
   "execution_count": 12,
   "metadata": {},
   "outputs": [],
   "source": [
    "df2v = df2v.select('first_vec','gender_int','gender')"
   ]
  },
  {
   "cell_type": "code",
   "execution_count": 14,
   "metadata": {},
   "outputs": [],
   "source": [
    "# Split the dataset\n",
    "train_dat2, valid_dat2, test_dat2 = df2v.randomSplit([0.7, 0.1, 0.2],seed=1234)"
   ]
  },
  {
   "cell_type": "code",
   "execution_count": 16,
   "metadata": {},
   "outputs": [],
   "source": [
    "from pyspark.ml.classification import NaiveBayes\n",
    "nb2 = NaiveBayes(smoothing=1.0, modelType=\"bernoulli\")\n",
    "nb2.setLabelCol('gender_int').setFeaturesCol(\"first_vec\")\n",
    "model2 = nb2.fit(train_dat2)"
   ]
  },
  {
   "cell_type": "code",
   "execution_count": 17,
   "metadata": {},
   "outputs": [
    {
     "data": {
      "text/plain": [
       "0.9710597080287592"
      ]
     },
     "execution_count": 17,
     "metadata": {},
     "output_type": "execute_result"
    }
   ],
   "source": [
    "from pyspark.ml.evaluation import BinaryClassificationEvaluator\n",
    "evaluator2 = BinaryClassificationEvaluator(labelCol='gender_int',rawPredictionCol='prediction')\n",
    "evaluator2.evaluate(model2.transform(valid_dat2))"
   ]
  },
  {
   "cell_type": "code",
   "execution_count": 18,
   "metadata": {},
   "outputs": [
    {
     "data": {
      "text/plain": [
       "0.9283440130189823"
      ]
     },
     "execution_count": 18,
     "metadata": {},
     "output_type": "execute_result"
    }
   ],
   "source": [
    "# Parameter Tunning\n",
    "from pyspark.ml.tuning import ParamGridBuilder\n",
    "paramGrid2 = (ParamGridBuilder()\n",
    "            .addGrid(nb2.smoothing, [0.01,2.0])\n",
    "            .build())\n",
    "\n",
    "from pyspark.ml.tuning import CrossValidator\n",
    "cv2 = CrossValidator(estimator = nb2,\n",
    "                    evaluator = evaluator2,\n",
    "                    estimatorParamMaps=paramGrid2,\n",
    "                    numFolds=3,\n",
    "                    parallelism=200,\n",
    "                    seed=1234)\n",
    "\n",
    "genderModel = cv2.fit(valid_dat2)\n",
    "\n",
    "evaluator2.evaluate(genderModel.transform(test_dat2))"
   ]
  },
  {
   "cell_type": "code",
   "execution_count": 23,
   "metadata": {},
   "outputs": [
    {
     "data": {
      "text/plain": [
       "0.9662645643913371"
      ]
     },
     "execution_count": 23,
     "metadata": {},
     "output_type": "execute_result"
    }
   ],
   "source": [
    "evaluator2.evaluate(model2.transform(test_dat2))"
   ]
  },
  {
   "cell_type": "code",
   "execution_count": null,
   "metadata": {},
   "outputs": [],
   "source": []
  }
 ],
 "metadata": {
  "kernelspec": {
   "display_name": "Python 3",
   "language": "python",
   "name": "python3"
  },
  "language_info": {
   "codemirror_mode": {
    "name": "ipython",
    "version": 3
   },
   "file_extension": ".py",
   "mimetype": "text/x-python",
   "name": "python",
   "nbconvert_exporter": "python",
   "pygments_lexer": "ipython3",
   "version": "3.8.9"
  },
  "vscode": {
   "interpreter": {
    "hash": "31f2aee4e71d21fbe5cf8b01ff0e069b9275f58929596ceb00d14d90e3e16cd6"
   }
  }
 },
 "nbformat": 4,
 "nbformat_minor": 4
}
