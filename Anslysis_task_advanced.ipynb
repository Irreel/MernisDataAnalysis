{
 "cells": [
  {
   "cell_type": "code",
   "execution_count": 1,
   "metadata": {},
   "outputs": [],
   "source": [
    "import findspark\n",
    "findspark.init()\n",
    "import numpy as np\n",
    "from pyspark.sql import SparkSession\n",
    "from pyspark.ml.feature import StringIndexer, OneHotEncoder, VectorAssembler, FeatureHasher\n",
    "\n",
    "spark = SparkSession.builder\\\n",
    "                    .appName(\"Assignment2\")\\\n",
    "                    .master(\"local\")\\\n",
    "                    .config('spark.executor.memory','32g')\\\n",
    "                    .config('spark.driver.memory','32g')\\\n",
    "                    .config('spark.driver.maxResultSize','2g')\\\n",
    "                     .config('spark.default.parallelism','2000')\\\n",
    "                    .getOrCreate()\n",
    "\n",
    "\n",
    "\n",
    "df = spark.read\\\n",
    "    .format(\"jdbc\")\\\n",
    "    .option(\"url\", \"\")\\\n",
    "    .option(\"dbtable\", \"citizen\") \\\n",
    "    .option(\"user\", \"postgres\")\\\n",
    "    .option(\"password\", \"postgres\")\\\n",
    "    .option(\"driver\", \"org.postgresql.Driver\") \\\n",
    "    .load()"
   ]
  },
  {
   "cell_type": "code",
   "execution_count": 3,
   "metadata": {},
   "outputs": [
    {
     "name": "stdout",
     "output_type": "stream",
     "text": [
      "root\n",
      " |-- uid: long (nullable = true)\n",
      " |-- national_identifier: long (nullable = true)\n",
      " |-- first: string (nullable = true)\n",
      " |-- last: string (nullable = true)\n",
      " |-- mother_first: string (nullable = true)\n",
      " |-- father_first: string (nullable = true)\n",
      " |-- gender: string (nullable = true)\n",
      " |-- birth_city: string (nullable = true)\n",
      " |-- date_of_birth: date (nullable = true)\n",
      " |-- id_registration_city: string (nullable = true)\n",
      " |-- id_registration_district: string (nullable = true)\n",
      " |-- address_city: string (nullable = true)\n",
      " |-- address_district: string (nullable = true)\n",
      " |-- address_neighborhood: string (nullable = true)\n",
      " |-- street_address: string (nullable = true)\n",
      " |-- door_or_entrance_number: integer (nullable = true)\n",
      " |-- misc: string (nullable = true)\n",
      " |-- year: integer (nullable = true)\n",
      " |-- month: integer (nullable = true)\n",
      " |-- day: integer (nullable = true)\n",
      "\n"
     ]
    }
   ],
   "source": [
    "# Preprocession: Convert the type of columns\n",
    "from pyspark.sql.functions import to_date,year,month,dayofmonth\n",
    "pattern = 'd/M/y'\n",
    "df = df.withColumn('date_of_birth',to_date(df['date_of_birth'],pattern))\n",
    "df = df.withColumn('national_identifier',df.national_identifier.cast('long'))\n",
    "df = df.withColumn('door_or_entrance_number',df.door_or_entrance_number.cast('int'))\n",
    "df = df.withColumn('year', year('date_of_birth'))\n",
    "df = df.withColumn('month', month('date_of_birth'))\n",
    "df = df.withColumn('day', dayofmonth('date_of_birth'))\n",
    "df.printSchema()"
   ]
  },
  {
   "cell_type": "code",
   "execution_count": 6,
   "metadata": {},
   "outputs": [
    {
     "data": {
      "text/plain": [
       "DataFrame[uid: bigint, national_identifier: bigint, first: string, last: string, mother_first: string, father_first: string, gender: string, birth_city: string, date_of_birth: date, id_registration_city: string, id_registration_district: string, address_city: string, address_district: string, address_neighborhood: string, street_address: string, door_or_entrance_number: int, misc: string]"
      ]
     },
     "execution_count": 6,
     "metadata": {},
     "output_type": "execute_result"
    }
   ],
   "source": [
    "#df.persist()"
   ]
  },
  {
   "attachments": {},
   "cell_type": "markdown",
   "metadata": {},
   "source": [
    "\n",
    "## N6. Calculate the population density of the top 10 most populous cities, using square kilometers for the area"
   ]
  },
  {
   "cell_type": "code",
   "execution_count": 5,
   "metadata": {},
   "outputs": [
    {
     "data": {
      "text/plain": [
       "['ISTANBUL',\n",
       " 'ANKARA',\n",
       " 'IZMIR',\n",
       " 'BURSA',\n",
       " 'AYDIN',\n",
       " 'ADANA',\n",
       " 'KONYA',\n",
       " 'ANTALYA',\n",
       " 'MERSIN',\n",
       " 'KOCAELI']"
      ]
     },
     "execution_count": 5,
     "metadata": {},
     "output_type": "execute_result"
    }
   ],
   "source": [
    "# Compute the top-10  city\n",
    "top10 = df.groupBy('address_city').count().sort(\"count\",ascending=False).limit(10)\n",
    "top10.rdd.keys().collect()"
   ]
  },
  {
   "cell_type": "code",
   "execution_count": 6,
   "metadata": {},
   "outputs": [],
   "source": [
    "# Results from DB-city.com：\n",
    "# 'ISTANBUL', city/province 5343 \n",
    "#  'ANKARA', city 2516 province 17501\n",
    "#  'IZMIR', city 6412.92 province 12473\n",
    "#  'BURSA', city 2259.35 province 10422\n",
    "#  'AYDIN', city 627 province 8187\n",
    "#  'ADANA', city 3708.19 province 13834\n",
    "#  'KONYA', city 6617 province 39390\n",
    "#  'ANTALYA', city 2099 province 22111\n",
    "#  'MERSIN', city 3038 province 17661\n",
    "#  'KOCAELI', city/province 3676.20 \n",
    "\n",
    "# Corresponding areas\n",
    "city_area = {\n",
    " 'ISTANBUL':5343,\n",
    " 'ANKARA':17501,\n",
    " 'IZMIR':12473,\n",
    " 'BURSA':10422,\n",
    " 'AYDIN':8187,\n",
    " 'ADANA':13834,\n",
    " 'KONYA':39390,\n",
    " 'ANTALYA':22111,\n",
    " 'MERSIN':17661,\n",
    " 'KOCAELI':3676.20,\n",
    "}"
   ]
  },
  {
   "cell_type": "code",
   "execution_count": 7,
   "metadata": {},
   "outputs": [
    {
     "data": {
      "text/plain": [
       "[('ISTANBUL', 1652.5517499532098),\n",
       " ('ANKARA', 176.07239586309353),\n",
       " ('IZMIR', 223.79531788663513),\n",
       " ('BURSA', 171.22155056611015),\n",
       " ('AYDIN', 172.42335409796019),\n",
       " ('ADANA', 100.51301142113633),\n",
       " ('KONYA', 33.82178217821782),\n",
       " ('ANTALYA', 58.327845868572204),\n",
       " ('MERSIN', 62.22541192457958),\n",
       " ('KOCAELI', 277.0678961971601)]"
      ]
     },
     "execution_count": 7,
     "metadata": {},
     "output_type": "execute_result"
    }
   ],
   "source": [
    "# Compute the density of the population\n",
    "def density(kv):\n",
    "    return (kv[0], kv[1]/city_area[kv[0]])\n",
    "    \n",
    "ans = top10.select('address_city','count').rdd\n",
    "ans.map(density).collect()"
   ]
  },
  {
   "attachments": {},
   "cell_type": "markdown",
   "metadata": {},
   "source": [
    "## N7. The proportion of cross-administrative mobility and cross-urban mobility in Turkey to the total population according to the place of origin and residence of the population, respectively"
   ]
  },
  {
   "cell_type": "code",
   "execution_count": 8,
   "metadata": {},
   "outputs": [],
   "source": [
    "# Cross-city mobility: One whose id_registration_city and address_city are different\n",
    "# Cross-district mobiilty: One whose id_registration_district and address_district are different "
   ]
  },
  {
   "cell_type": "code",
   "execution_count": 4,
   "metadata": {},
   "outputs": [],
   "source": [
    "df7 = df.select('id_registration_city','id_registration_district','address_city','address_district')"
   ]
  },
  {
   "cell_type": "code",
   "execution_count": 5,
   "metadata": {},
   "outputs": [],
   "source": [
    "def crossMan(x):\n",
    "    for i in range(0,4):\n",
    "        if x[i] is None:\n",
    "            return _,(0,0,0)\n",
    "    crossCity = 0\n",
    "    crossDist = 0\n",
    "    # Compare id_registration_city and address_city\n",
    "    if x[0] != x[2]:\n",
    "        crossCity = 1\n",
    "    if x[1] != x[3]:\n",
    "        crossDist = 1\n",
    "    return _,(1, crossCity, crossDist)"
   ]
  },
  {
   "cell_type": "code",
   "execution_count": 6,
   "metadata": {},
   "outputs": [],
   "source": [
    "ans = df7.rdd.map(crossMan).reduceByKey(lambda x,y: (x[0]+y[0], x[1]+y[1],  x[2]+y[2])).mapValues(lambda x: (x[1]/x[0], x[2]/x[0]))                   "
   ]
  },
  {
   "cell_type": "code",
   "execution_count": 8,
   "metadata": {},
   "outputs": [
    {
     "data": {
      "text/plain": [
       "[(0.36136473347451104, 0.523862199546482)]"
      ]
     },
     "execution_count": 8,
     "metadata": {},
     "output_type": "execute_result"
    }
   ],
   "source": [
    "ans.values().collect()"
   ]
  },
  {
   "attachments": {},
   "cell_type": "markdown",
   "metadata": {},
   "source": [
    "## H1. Prediction model for the living city\n",
    "Given all the information about a person (except the city), predict the city where the person is located. Analyze the prediction accuracy of this model Top1 to Top 5."
   ]
  },
  {
   "cell_type": "code",
   "execution_count": 4,
   "metadata": {},
   "outputs": [
    {
     "name": "stdout",
     "output_type": "stream",
     "text": [
      "root\n",
      " |-- uid: long (nullable = true)\n",
      " |-- national_identifier: long (nullable = true)\n",
      " |-- first: string (nullable = true)\n",
      " |-- last: string (nullable = true)\n",
      " |-- mother_first: string (nullable = true)\n",
      " |-- father_first: string (nullable = true)\n",
      " |-- gender: string (nullable = true)\n",
      " |-- birth_city: string (nullable = true)\n",
      " |-- date_of_birth: date (nullable = true)\n",
      " |-- id_registration_city: string (nullable = true)\n",
      " |-- id_registration_district: string (nullable = true)\n",
      " |-- address_city: string (nullable = true)\n",
      " |-- address_district: string (nullable = true)\n",
      " |-- address_neighborhood: string (nullable = true)\n",
      " |-- street_address: string (nullable = true)\n",
      " |-- door_or_entrance_number: integer (nullable = true)\n",
      " |-- misc: string (nullable = true)\n",
      " |-- year: integer (nullable = true)\n",
      " |-- month: integer (nullable = true)\n",
      " |-- day: integer (nullable = true)\n",
      "\n"
     ]
    }
   ],
   "source": [
    "df.printSchema()"
   ]
  },
  {
   "cell_type": "code",
   "execution_count": 8,
   "metadata": {},
   "outputs": [],
   "source": [
    "# Feature Extraction\n",
    "\n",
    "features = ['address_district', 'id_registration_city', 'id_registration_district']\n",
    "label = 'address_city'\n",
    "\n",
    "df1 = df.select(features + [label])\n",
    "\n",
    "for i in features:\n",
    "    inCol = i\n",
    "    outCol = i + '_int'\n",
    "    strIdx = StringIndexer(inputCol=inCol, outputCol=outCol, handleInvalid='skip')\n",
    "    model = strIdx.fit(df1)\n",
    "    df1 = model.transform(df1)"
   ]
  },
  {
   "cell_type": "code",
   "execution_count": 10,
   "metadata": {},
   "outputs": [],
   "source": [
    "cityIdx = StringIndexer(inputCol=label, outputCol='address_city_int', handleInvalid='skip')\n",
    "cityIdxModel = cityIdx.fit(df1)\n",
    "df1int = cityIdxModel.transform(df1)"
   ]
  },
  {
   "cell_type": "code",
   "execution_count": 12,
   "metadata": {},
   "outputs": [],
   "source": [
    "df1vec = df1int\n",
    "for i in features:\n",
    "    encoder = OneHotEncoder(inputCol=i + '_int',outputCol=i + '_vec')\n",
    "    df1vec = encoder.fit(df1vec).transform(df1vec)"
   ]
  },
  {
   "cell_type": "code",
   "execution_count": 14,
   "metadata": {},
   "outputs": [
    {
     "data": {
      "text/plain": [
       "DataFrame[address_district: string, id_registration_city: string, id_registration_district: string, address_city: string, address_district_int: double, id_registration_city_int: double, id_registration_district_int: double, address_city_int: double, address_district_vec: vector, id_registration_city_vec: vector, id_registration_district_vec: vector, features: vector]"
      ]
     },
     "execution_count": 14,
     "metadata": {},
     "output_type": "execute_result"
    }
   ],
   "source": [
    "# VectorAssembler\n",
    "vecAssembler = VectorAssembler(outputCol=\"features\")\n",
    "vecAssembler.setInputCols([\"address_district_vec\", \"id_registration_city_vec\", \"id_registration_district_vec\"])\n",
    "df1v = vecAssembler.transform(df1vec)\n",
    "\n",
    "df1v.cache()"
   ]
  },
  {
   "cell_type": "code",
   "execution_count": 15,
   "metadata": {},
   "outputs": [],
   "source": [
    "# Split the dataset\n",
    "train_dat, valid_dat, test_dat = df1v.randomSplit([0.7, 0.1, 0.2],seed=1234)"
   ]
  },
  {
   "cell_type": "code",
   "execution_count": 16,
   "metadata": {},
   "outputs": [],
   "source": [
    "from pyspark.ml.classification import NaiveBayes\n",
    "nb = NaiveBayes(smoothing=1.0, modelType=\"multinomial\")\n",
    "nb.setLabelCol('address_city_int').setFeaturesCol(\"features\")\n",
    "model = nb.fit(train_dat)"
   ]
  },
  {
   "cell_type": "code",
   "execution_count": 17,
   "metadata": {},
   "outputs": [
    {
     "data": {
      "text/plain": [
       "DenseVector([0.0001, 0.0001, 0.0, 0.0, 0.0, 0.9909, 0.0, 0.0003, 0.002, 0.0, 0.0, 0.0001, 0.0003, 0.0, 0.0, 0.0, 0.0001, 0.0, 0.0, 0.0, 0.0001, 0.0, 0.0001, 0.0, 0.0, 0.0, 0.0, 0.0, 0.0, 0.0, 0.0, 0.0, 0.0, 0.0, 0.0, 0.0, 0.0, 0.0, 0.0, 0.0, 0.0, 0.0, 0.0006, 0.0, 0.0, 0.0, 0.0045, 0.0, 0.0, 0.0, 0.0, 0.0, 0.0, 0.0, 0.0, 0.0002, 0.0, 0.0, 0.0, 0.0, 0.0, 0.0, 0.0, 0.0, 0.0, 0.0, 0.0, 0.0, 0.0, 0.0, 0.0, 0.0, 0.0001, 0.0, 0.0, 0.0, 0.0, 0.0, 0.0, 0.0, 0.0])"
      ]
     },
     "execution_count": 17,
     "metadata": {},
     "output_type": "execute_result"
    }
   ],
   "source": [
    "result = model.transform(valid_dat)\n",
    "result.head().probability"
   ]
  },
  {
   "cell_type": "code",
   "execution_count": 18,
   "metadata": {},
   "outputs": [],
   "source": [
    "accurRdd = result.select('address_city_int','probability','prediction').rdd"
   ]
  },
  {
   "cell_type": "code",
   "execution_count": 25,
   "metadata": {},
   "outputs": [
    {
     "data": {
      "text/plain": [
       "Row(address_city_int=46.0, probability=DenseVector([0.0001, 0.0001, 0.0, 0.0, 0.0, 0.9909, 0.0, 0.0003, 0.002, 0.0, 0.0, 0.0001, 0.0003, 0.0, 0.0, 0.0, 0.0001, 0.0, 0.0, 0.0, 0.0001, 0.0, 0.0001, 0.0, 0.0, 0.0, 0.0, 0.0, 0.0, 0.0, 0.0, 0.0, 0.0, 0.0, 0.0, 0.0, 0.0, 0.0, 0.0, 0.0, 0.0, 0.0, 0.0006, 0.0, 0.0, 0.0, 0.0045, 0.0, 0.0, 0.0, 0.0, 0.0, 0.0, 0.0, 0.0, 0.0002, 0.0, 0.0, 0.0, 0.0, 0.0, 0.0, 0.0, 0.0, 0.0, 0.0, 0.0, 0.0, 0.0, 0.0, 0.0, 0.0, 0.0001, 0.0, 0.0, 0.0, 0.0, 0.0, 0.0, 0.0, 0.0]), prediction=5.0)"
      ]
     },
     "execution_count": 25,
     "metadata": {},
     "output_type": "execute_result"
    }
   ],
   "source": [
    "accurRdd.first()"
   ]
  },
  {
   "cell_type": "code",
   "execution_count": 22,
   "metadata": {},
   "outputs": [],
   "source": [
    "# Top1 to Top5 accuracy\n",
    "def accuracy_per(level, prob, label):\n",
    "    miss = 0\n",
    "    a = 0\n",
    "    label_prob = prob[label]\n",
    "    for p in prob:\n",
    "        if p > label_prob:\n",
    "            a = a+1\n",
    "        if a >= level:\n",
    "            miss = 1\n",
    "            break\n",
    "    return miss\n",
    "\n",
    "topK = []\n",
    "for i in range(1,6):\n",
    "    topK.append(accurRdd.map(lambda x:(1,accuracy_per(i, x[1].toArray() ,int(x[0]))))\\\n",
    "                        .reduce(lambda x,y:(x[0]+y[0],x[1]+y[1])))"
   ]
  },
  {
   "cell_type": "code",
   "execution_count": 23,
   "metadata": {},
   "outputs": [
    {
     "data": {
      "text/plain": [
       "[(4960172, 200685),\n",
       " (4960172, 5313),\n",
       " (4960172, 1405),\n",
       " (4960172, 226),\n",
       " (4960172, 88)]"
      ]
     },
     "execution_count": 23,
     "metadata": {},
     "output_type": "execute_result"
    }
   ],
   "source": [
    "topK"
   ]
  },
  {
   "cell_type": "code",
   "execution_count": 28,
   "metadata": {},
   "outputs": [
    {
     "name": "stdout",
     "output_type": "stream",
     "text": [
      "The top 0 accuracy is 0.9595407175396337 \n",
      "\n",
      "The top 1 accuracy is 0.9989288677892622 \n",
      "\n",
      "The top 2 accuracy is 0.9997167436935654 \n",
      "\n",
      "The top 3 accuracy is 0.999954437063876 \n",
      "\n",
      "The top 4 accuracy is 0.9999822586797393 \n",
      "\n"
     ]
    }
   ],
   "source": [
    "for i in range(0,5):\n",
    "    print('The top', i ,'accuracy is', 1 - topK[i][1]/topK[i][0], '\\n')"
   ]
  }
 ],
 "metadata": {
  "kernelspec": {
   "display_name": "Python 3",
   "language": "python",
   "name": "python3"
  },
  "language_info": {
   "codemirror_mode": {
    "name": "ipython",
    "version": 3
   },
   "file_extension": ".py",
   "mimetype": "text/x-python",
   "name": "python",
   "nbconvert_exporter": "python",
   "pygments_lexer": "ipython3",
   "version": "3.8.9"
  },
  "vscode": {
   "interpreter": {
    "hash": "31f2aee4e71d21fbe5cf8b01ff0e069b9275f58929596ceb00d14d90e3e16cd6"
   }
  }
 },
 "nbformat": 4,
 "nbformat_minor": 4
}
