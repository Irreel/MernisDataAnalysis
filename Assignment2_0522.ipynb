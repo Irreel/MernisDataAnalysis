{
 "cells": [
  {
   "cell_type": "code",
   "execution_count": 1,
   "metadata": {},
   "outputs": [],
   "source": [
    "import findspark\n",
    "findspark.init()"
   ]
  },
  {
   "cell_type": "code",
   "execution_count": 2,
   "metadata": {},
   "outputs": [],
   "source": [
    "import numpy as np\n",
    "\n",
    "from pyspark.sql import SparkSession\n",
    "from pyspark.mllib.stat import Statistics"
   ]
  },
  {
   "cell_type": "code",
   "execution_count": 3,
   "metadata": {},
   "outputs": [],
   "source": [
    "spark = SparkSession.builder\\\n",
    "                    .appName(\"Assignment1\")\\\n",
    "                    .master(\"local\")\\\n",
    "                    .config('spark.executor.memory','32g')\\\n",
    "                    .config('spark.driver.memory','32g')\\\n",
    "                    .config('spark.driver.maxResultSize','2g')\\\n",
    "                    .getOrCreate()\n",
    "\n",
    "df = spark.read\\\n",
    "    .format(\"jdbc\")\\\n",
    "    .option(\"url\", \"jdbc:postgresql://10.222.248.204:5432/mernis\")\\\n",
    "    .option(\"dbtable\", \"citizen\") \\\n",
    "    .option(\"user\", \"postgres\")\\\n",
    "    .option(\"password\", \"postgres\")\\\n",
    "    .option(\"driver\", \"org.postgresql.Driver\") \\\n",
    "    .load()"
   ]
  },
  {
   "cell_type": "code",
   "execution_count": null,
   "metadata": {},
   "outputs": [],
   "source": [
    "# spark = SparkSession.builder\\\n",
    "#                     .appName(\"Assignment1\")\\\n",
    "#                     .master(\"local\")\\\n",
    "#                     .config('spark.executor.memory','32g')\\\n",
    "#                     .config('spark.driver.memory','32g')\\\n",
    "#                     .config('spark.driver.maxResultSize','2g')\\\n",
    "#                     .getOrCreate()\n",
    "\n",
    "# df = spark.read\\\n",
    "#     .format(\"jdbc\")\\\n",
    "#     .option(\"url\", \"jdbc:postgresql://localhost:5432/mernis\")\\\n",
    "#     .option(\"dbtable\", \"citizen\") \\\n",
    "#     .option(\"user\", \"postgres\")\\\n",
    "#     .option(\"password\", \"\")\\\n",
    "#     .option(\"driver\", \"org.postgresql.Driver\") \\\n",
    "#     .load()"
   ]
  },
  {
   "cell_type": "code",
   "execution_count": 6,
   "metadata": {},
   "outputs": [
    {
     "name": "stdout",
     "output_type": "stream",
     "text": [
      "root\n",
      " |-- uid: long (nullable = true)\n",
      " |-- national_identifier: string (nullable = true)\n",
      " |-- first: string (nullable = true)\n",
      " |-- last: string (nullable = true)\n",
      " |-- mother_first: string (nullable = true)\n",
      " |-- father_first: string (nullable = true)\n",
      " |-- gender: string (nullable = true)\n",
      " |-- birth_city: string (nullable = true)\n",
      " |-- date_of_birth: string (nullable = true)\n",
      " |-- id_registration_city: string (nullable = true)\n",
      " |-- id_registration_district: string (nullable = true)\n",
      " |-- address_city: string (nullable = true)\n",
      " |-- address_district: string (nullable = true)\n",
      " |-- address_neighborhood: string (nullable = true)\n",
      " |-- street_address: string (nullable = true)\n",
      " |-- door_or_entrance_number: string (nullable = true)\n",
      " |-- misc: string (nullable = true)\n",
      "\n"
     ]
    }
   ],
   "source": []
  },
  {
   "cell_type": "code",
   "execution_count": 4,
   "metadata": {},
   "outputs": [],
   "source": [
    "# # Preprocession Convert the type of date_of_birth column into datetime\n",
    "# from pyspark.sql.functions import to_date\n",
    "# pattern = 'd/M/y'\n",
    "\n",
    "# df = df.withColumn('date_of_birth',to_date(df['date_of_birth'],pattern))\n",
    "# df = df.withColumn('national_identifier',df.national_identifier.cast('long'))"
   ]
  },
  {
   "cell_type": "markdown",
   "metadata": {},
   "source": [
    "\n",
    "## N6. 计算前10大人口城市人口密度，其中城市的面积可Google搜索，面积单位使用平方千米"
   ]
  },
  {
   "cell_type": "code",
   "execution_count": 5,
   "metadata": {},
   "outputs": [
    {
     "data": {
      "text/plain": [
       "['ISTANBUL',\n",
       " 'ANKARA',\n",
       " 'IZMIR',\n",
       " 'BURSA',\n",
       " 'AYDIN',\n",
       " 'ADANA',\n",
       " 'KONYA',\n",
       " 'ANTALYA',\n",
       " 'MERSIN',\n",
       " 'KOCAELI']"
      ]
     },
     "execution_count": 5,
     "metadata": {},
     "output_type": "execute_result"
    }
   ],
   "source": [
    "# Compute the top-10  city\n",
    "top10 = df.groupBy('address_city').count().sort(\"count\",ascending=False).limit(10)\n",
    "top10.rdd.keys().collect()"
   ]
  },
  {
   "cell_type": "code",
   "execution_count": 6,
   "metadata": {},
   "outputs": [],
   "source": [
    "# Results from DB-city.com：\n",
    "# 'ISTANBUL', city/province 5343 \n",
    "#  'ANKARA', city 2516 province 17501\n",
    "#  'IZMIR', city 6412.92 province 12473\n",
    "#  'BURSA', city 2259.35 province 10422\n",
    "#  'AYDIN', city 627 province 8187\n",
    "#  'ADANA', city 3708.19 province 13834\n",
    "#  'KONYA', city 6617 province 39390\n",
    "#  'ANTALYA', city 2099 province 22111\n",
    "#  'MERSIN', city 3038 province 17661\n",
    "#  'KOCAELI', city/province 3676.20 \n",
    "\n",
    "# Corresponding areas\n",
    "city_area = {\n",
    " 'ISTANBUL':5343,\n",
    " 'ANKARA':17501,\n",
    " 'IZMIR':12473,\n",
    " 'BURSA':10422,\n",
    " 'AYDIN':8187,\n",
    " 'ADANA':13834,\n",
    " 'KONYA':39390,\n",
    " 'ANTALYA':22111,\n",
    " 'MERSIN':17661,\n",
    " 'KOCAELI':3676.20,\n",
    "}"
   ]
  },
  {
   "cell_type": "code",
   "execution_count": 7,
   "metadata": {},
   "outputs": [
    {
     "data": {
      "text/plain": [
       "[('ISTANBUL', 1652.5517499532098),\n",
       " ('ANKARA', 176.07239586309353),\n",
       " ('IZMIR', 223.79531788663513),\n",
       " ('BURSA', 171.22155056611015),\n",
       " ('AYDIN', 172.42335409796019),\n",
       " ('ADANA', 100.51301142113633),\n",
       " ('KONYA', 33.82178217821782),\n",
       " ('ANTALYA', 58.327845868572204),\n",
       " ('MERSIN', 62.22541192457958),\n",
       " ('KOCAELI', 277.0678961971601)]"
      ]
     },
     "execution_count": 7,
     "metadata": {},
     "output_type": "execute_result"
    }
   ],
   "source": [
    "# Compute the density of the population\n",
    "def density(kv):\n",
    "    return (kv[0], kv[1]/city_area[kv[0]])\n",
    "    \n",
    "ans = top10.select('address_city','count').rdd\n",
    "ans.map(density).collect()"
   ]
  },
  {
   "cell_type": "markdown",
   "metadata": {},
   "source": [
    "## N7. 根据人口的出身地和居住地，分别统计土耳其跨行政区流动人口和跨城市流动人口占总人口的比例。"
   ]
  },
  {
   "cell_type": "code",
   "execution_count": 8,
   "metadata": {},
   "outputs": [],
   "source": [
    "# Cross-city mobility: One whose id_registration_city and address_city are different\n",
    "# Cross-district mobiilty: One whose id_registration_district and address_district are different "
   ]
  },
  {
   "cell_type": "code",
   "execution_count": 4,
   "metadata": {},
   "outputs": [],
   "source": [
    "df7 = df.select('id_registration_city','id_registration_district','address_city','address_district')"
   ]
  },
  {
   "cell_type": "code",
   "execution_count": 5,
   "metadata": {},
   "outputs": [],
   "source": [
    "def crossMan(x):\n",
    "    for i in range(0,4):\n",
    "        if x[i] is None:\n",
    "            return _,(0,0,0)\n",
    "    crossCity = 0\n",
    "    crossDist = 0\n",
    "    # Compare id_registration_city and address_city\n",
    "    if x[0] != x[2]:\n",
    "        crossCity = 1\n",
    "    if x[1] != x[3]:\n",
    "        crossDist = 1\n",
    "    return _,(1, crossCity, crossDist)"
   ]
  },
  {
   "cell_type": "code",
   "execution_count": 6,
   "metadata": {},
   "outputs": [],
   "source": [
    "ans = df7.rdd.map(crossMan).reduceByKey(lambda x,y: (x[0]+y[0], x[1]+y[1],  x[2]+y[2])).mapValues(lambda x: (x[1]/x[0], x[2]/x[0]))                   "
   ]
  },
  {
   "cell_type": "code",
   "execution_count": 8,
   "metadata": {},
   "outputs": [
    {
     "data": {
      "text/plain": [
       "[(0.36136473347451104, 0.523862199546482)]"
      ]
     },
     "execution_count": 8,
     "metadata": {},
     "output_type": "execute_result"
    }
   ],
   "source": [
    "ans.values().collect()"
   ]
  },
  {
   "cell_type": "markdown",
   "metadata": {},
   "source": [
    "## H1. 某人所在城市的预测模型:给定一个人的所有信息(除了所在城市)，预测这个人所在的城市。 分析该模型Top1到 Top 5的预测准确度"
   ]
  },
  {
   "cell_type": "code",
   "execution_count": 10,
   "metadata": {},
   "outputs": [
    {
     "name": "stdout",
     "output_type": "stream",
     "text": [
      "root\n",
      " |-- uid: long (nullable = true)\n",
      " |-- national_identifier: string (nullable = true)\n",
      " |-- first: string (nullable = true)\n",
      " |-- last: string (nullable = true)\n",
      " |-- mother_first: string (nullable = true)\n",
      " |-- father_first: string (nullable = true)\n",
      " |-- gender: string (nullable = true)\n",
      " |-- birth_city: string (nullable = true)\n",
      " |-- date_of_birth: string (nullable = true)\n",
      " |-- id_registration_city: string (nullable = true)\n",
      " |-- id_registration_district: string (nullable = true)\n",
      " |-- address_city: string (nullable = true)\n",
      " |-- address_district: string (nullable = true)\n",
      " |-- address_neighborhood: string (nullable = true)\n",
      " |-- street_address: string (nullable = true)\n",
      " |-- door_or_entrance_number: string (nullable = true)\n",
      " |-- misc: string (nullable = true)\n",
      "\n"
     ]
    }
   ],
   "source": [
    "df.printSchema()"
   ]
  },
  {
   "cell_type": "code",
   "execution_count": null,
   "metadata": {},
   "outputs": [],
   "source": [
    "#######\n",
    "# SQL查询 select COUNT(*) from citizen where birth_city = '<NULL>'\n",
    "# 结果显示26111条数据为空 共计49611709\n",
    "#  select distinct birth_city from citizen\n",
    "# 显示很多无效数据如图\n",
    "# 姑数据清洗\n",
    "#####"
   ]
  },
  {
   "cell_type": "code",
   "execution_count": null,
   "metadata": {},
   "outputs": [],
   "source": [
    "df1 = df.filter(\"birth_city LIKE '^[A-Z]' \")"
   ]
  },
  {
   "cell_type": "code",
   "execution_count": null,
   "metadata": {},
   "outputs": [],
   "source": [
    "# Feature Extraction\n",
    "# df1 = births.withColumn('BIRTH_PLACE_INT', births['BIRTH_PLACE']\\\n",
    "#     .cast(typ.IntegerType()))\n",
    "\n",
    "\n",
    "label = 'address_city'\n",
    "stringIndexer = StringIndexer(inputCol=label, outputCol=\"indexed\")\n",
    "model = stringIndexer.fit(df1)\n",
    "df1 = model.transform(df1)"
   ]
  },
  {
   "cell_type": "code",
   "execution_count": null,
   "metadata": {},
   "outputs": [],
   "source": [
    "# Split the dataset\n",
    "train_dat, valid_dat, test_dat = df1.randomSplit([0.7, 0.1, 0.2])"
   ]
  },
  {
   "cell_type": "code",
   "execution_count": 17,
   "metadata": {},
   "outputs": [
    {
     "data": {
      "text/plain": [
       "<function pyspark.ml.param.Params.explainParams(self)>"
      ]
     },
     "execution_count": 17,
     "metadata": {},
     "output_type": "execute_result"
    }
   ],
   "source": [
    "from pyspark.ml.classification import NaiveBayes"
   ]
  },
  {
   "cell_type": "code",
   "execution_count": null,
   "metadata": {},
   "outputs": [],
   "source": [
    "# Logistic Regressioin\n"
   ]
  },
  {
   "cell_type": "code",
   "execution_count": null,
   "metadata": {},
   "outputs": [],
   "source": [
    "# Decision Tree/Random Forest？\n"
   ]
  },
  {
   "cell_type": "code",
   "execution_count": null,
   "metadata": {},
   "outputs": [],
   "source": []
  }
 ],
 "metadata": {
  "kernelspec": {
   "display_name": "Python 3",
   "language": "python",
   "name": "python3"
  },
  "language_info": {
   "codemirror_mode": {
    "name": "ipython",
    "version": 3
   },
   "file_extension": ".py",
   "mimetype": "text/x-python",
   "name": "python",
   "nbconvert_exporter": "python",
   "pygments_lexer": "ipython3",
   "version": "3.7.6"
  }
 },
 "nbformat": 4,
 "nbformat_minor": 4
}
