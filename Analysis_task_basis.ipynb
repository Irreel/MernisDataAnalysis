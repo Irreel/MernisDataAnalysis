{
 "cells": [
  {
   "cell_type": "code",
   "execution_count": 1,
   "metadata": {},
   "outputs": [],
   "source": [
    "import findspark\n",
    "findspark.init()"
   ]
  },
  {
   "cell_type": "code",
   "execution_count": 2,
   "metadata": {},
   "outputs": [],
   "source": [
    "import numpy as np\n",
    "\n",
    "from pyspark.sql import SparkSession\n",
    "from pyspark import SparkContext as sc\n",
    "from pyspark.mllib.stat import Statistics\n",
    "import pyspark.sql.functions as F\n",
    "from pyspark.sql.window import Window"
   ]
  },
  {
   "cell_type": "code",
   "execution_count": 3,
   "metadata": {},
   "outputs": [],
   "source": [
    "spark = SparkSession.builder\\\n",
    "                    .appName(\"Assignment1\")\\\n",
    "                    .master(\"local\")\\\n",
    "                    .config('spark.executor.memory','32g')\\\n",
    "                    .config('spark.driver.memory','32g')\\\n",
    "                    .config('spark.driver.maxResultSize','2g')\\\n",
    "                    .getOrCreate()\n",
    "\n",
    "df = spark.read\\\n",
    "    .format(\"jdbc\")\\\n",
    "    .option(\"url\", \"jdbc:postgresql://localhost:5432/mernis\")\\\n",
    "    .option(\"dbtable\", \"citizen\") \\\n",
    "    .option(\"user\", \"postgres\")\\\n",
    "    .option(\"password\", \"\")\\\n",
    "    .option(\"driver\", \"org.postgresql.Driver\") \\\n",
    "    .load()"
   ]
  },
  {
   "cell_type": "code",
   "execution_count": 4,
   "metadata": {},
   "outputs": [
    {
     "name": "stdout",
     "output_type": "stream",
     "text": [
      "root\n",
      " |-- uid: long (nullable = true)\n",
      " |-- national_identifier: string (nullable = true)\n",
      " |-- first: string (nullable = true)\n",
      " |-- last: string (nullable = true)\n",
      " |-- mother_first: string (nullable = true)\n",
      " |-- father_first: string (nullable = true)\n",
      " |-- gender: string (nullable = true)\n",
      " |-- birth_city: string (nullable = true)\n",
      " |-- date_of_birth: string (nullable = true)\n",
      " |-- id_registration_city: string (nullable = true)\n",
      " |-- id_registration_district: string (nullable = true)\n",
      " |-- address_city: string (nullable = true)\n",
      " |-- address_district: string (nullable = true)\n",
      " |-- address_neighborhood: string (nullable = true)\n",
      " |-- street_address: string (nullable = true)\n",
      " |-- door_or_entrance_number: string (nullable = true)\n",
      " |-- misc: string (nullable = true)\n",
      "\n"
     ]
    }
   ],
   "source": [
    "df.printSchema()"
   ]
  },
  {
   "cell_type": "code",
   "execution_count": 5,
   "metadata": {},
   "outputs": [],
   "source": [
    "# 数据预处理 将date_of_birth列转为datetime格式\n",
    "from pyspark.sql.functions import to_date\n",
    "pattern = 'd/M/y'\n",
    "\n",
    "df = df.withColumn('date_of_birth',to_date(df['date_of_birth'],pattern))"
   ]
  },
  {
   "attachments": {},
   "cell_type": "markdown",
   "metadata": {},
   "source": [
    "\n",
    "## E1. Calculate the oldest male among all citizens of Turkey"
   ]
  },
  {
   "cell_type": "code",
   "execution_count": 6,
   "metadata": {},
   "outputs": [],
   "source": [
    "# 选出男性公民\n",
    "df1 = df.filter('gender = \"E\"')\n",
    "\n",
    "# 选出最早的出生日期\n",
    "df1.createOrReplaceTempView(\"view1\")\n",
    "maxAge = spark.sql(\"SELECT MIN(date_of_birth) FROM view1\").rdd.keys().collect()"
   ]
  },
  {
   "cell_type": "code",
   "execution_count": 35,
   "metadata": {},
   "outputs": [
    {
     "data": {
      "text/plain": [
       "[Row(uid=32198722, national_identifier='52552749852', first='CELIL', last='UNAL', mother_first='HAYRIYE', father_first='MEHMET', gender='E', birth_city='BARTIN', date_of_birth=datetime.date(1329, 9, 20), id_registration_city='BARTIN', id_registration_district='AMASRA', address_city='BARTIN', address_district='AMASRA', address_neighborhood='ALIOBASI KOYU', street_address='MERKEZ SOKAK', door_or_entrance_number='66', misc='<NULL>')]"
      ]
     },
     "execution_count": 35,
     "metadata": {},
     "output_type": "execute_result"
    }
   ],
   "source": [
    "# 选出所有在此日期出生的男性公民\n",
    "df1.filter(df1.date_of_birth==maxAge[0]).collect()"
   ]
  },
  {
   "attachments": {},
   "cell_type": "markdown",
   "metadata": {},
   "source": [
    "##  E2.Claculate the most frequently occurring letters in all names"
   ]
  },
  {
   "cell_type": "code",
   "execution_count": 8,
   "metadata": {},
   "outputs": [],
   "source": [
    "# 选出所需统计的姓名列作为新RDD\n",
    "df2 = df.select(\"first\",\"last\").rdd"
   ]
  },
  {
   "cell_type": "code",
   "execution_count": 11,
   "metadata": {},
   "outputs": [],
   "source": [
    "# 一并统计first及last中字母出现次数\n",
    "tmp = df2.flatMap(lambda x: list(x.first)+list(x.last)).countByValue()"
   ]
  },
  {
   "cell_type": "code",
   "execution_count": 28,
   "metadata": {},
   "outputs": [
    {
     "data": {
      "text/plain": [
       "('A', 82319942)"
      ]
     },
     "execution_count": 28,
     "metadata": {},
     "output_type": "execute_result"
    }
   ],
   "source": [
    "# 选出结果中频数最大的items\n",
    "max(tmp.items(), key=lambda x:x[1])"
   ]
  },
  {
   "attachments": {},
   "cell_type": "markdown",
   "metadata": {},
   "source": [
    "## E3.The age distribution of the country's population in age groups (0-18, 19-28, 29-38, 39-48, 49-59, >60)"
   ]
  },
  {
   "cell_type": "code",
   "execution_count": 6,
   "metadata": {},
   "outputs": [],
   "source": [
    "from pyspark.sql.functions import year\n",
    "\n",
    "# 年龄计算采用虚岁，即对年份做差\n",
    "now = 2021\n",
    "df3 = df.select( (now - year('date_of_birth')).alias('age')).rdd"
   ]
  },
  {
   "cell_type": "code",
   "execution_count": 28,
   "metadata": {},
   "outputs": [
    {
     "data": {
      "text/plain": [
       "([0, 18, 28, 38, 48, 59, 692], [0, 0, 8969059, 12522777, 11069293, 16979840])"
      ]
     },
     "execution_count": 28,
     "metadata": {},
     "output_type": "execute_result"
    }
   ],
   "source": [
    "# 初始化年龄段分,以E1中最大年龄作为上界\n",
    "maxBin = 2021 - maxAge[0].year\n",
    "bins = [0,18,28,38,48,59]+[maxBin]\n",
    "\n",
    "df3.flatMap(lambda x:x).histogram(bins)\n",
    "##### TB Update --print out format"
   ]
  },
  {
   "attachments": {},
   "cell_type": "markdown",
   "metadata": {},
   "source": [
    "## E4.The number of men and women in the country separately and calculate the ratio of men to women"
   ]
  },
  {
   "cell_type": "code",
   "execution_count": 50,
   "metadata": {},
   "outputs": [],
   "source": [
    "# 统计男女人数\n",
    "df4 = df.select('gender').rdd.map(lambda x: (x,1)).reduceByKey(lambda x,y: x + y)\n",
    "ans = df4.collect()"
   ]
  },
  {
   "cell_type": "code",
   "execution_count": 56,
   "metadata": {},
   "outputs": [
    {
     "name": "stdout",
     "output_type": "stream",
     "text": [
      "男女人数 [(Row(gender='E'), 24534483), (Row(gender='K'), 25077226)]\n",
      "男女比例(男/女)为 0.9783571356736188\n"
     ]
    }
   ],
   "source": [
    "print('男女人数', ans)\n",
    "# 计算男女比例，即男/女\n",
    "print('男女比例(男/女)为', ans[0][1]/ans[1][1])"
   ]
  },
  {
   "attachments": {},
   "cell_type": "markdown",
   "metadata": {},
   "source": [
    "## E5.Calculate the highest male birth rate and the highest female birth rate in the country"
   ]
  },
  {
   "cell_type": "code",
   "execution_count": 8,
   "metadata": {},
   "outputs": [],
   "source": [
    "df5 = df.select('gender', F.month('date_of_birth').alias('month'))\n",
    "# 出生率最高的月份即频数最大的出生月份"
   ]
  },
  {
   "cell_type": "code",
   "execution_count": 9,
   "metadata": {},
   "outputs": [
    {
     "data": {
      "text/plain": [
       "(Row(month=1), 3911255)"
      ]
     },
     "execution_count": 9,
     "metadata": {},
     "output_type": "execute_result"
    }
   ],
   "source": [
    "# 统计男性出生率最高的月份\n",
    "df5E = df5.filter('gender=\"E\"').select('month').rdd.map(lambda x: (x, 1)).reduceByKey(lambda x,y: x + y)\n",
    "df5E.sortBy(lambda x: x[1], ascending=False).first()"
   ]
  },
  {
   "cell_type": "code",
   "execution_count": 10,
   "metadata": {},
   "outputs": [
    {
     "data": {
      "text/plain": [
       "(Row(month=1), 3912665)"
      ]
     },
     "execution_count": 10,
     "metadata": {},
     "output_type": "execute_result"
    }
   ],
   "source": [
    "# 统计女性出生率最高的月份\n",
    "df5K = df5.filter('gender=\"K\"').select('month').rdd.map(lambda x: (x, 1)).reduceByKey(lambda x,y: x + y)\n",
    "df5K.sortBy(lambda x: x[1], ascending=False).first()"
   ]
  },
  {
   "attachments": {},
   "cell_type": "markdown",
   "metadata": {},
   "source": [
    "## E6.Calculate which street has the largest population"
   ]
  },
  {
   "cell_type": "code",
   "execution_count": 15,
   "metadata": {},
   "outputs": [
    {
     "data": {
      "text/plain": [
       "Row(street_address='KOYUN KENDISI', count=4748581)"
      ]
     },
     "execution_count": 15,
     "metadata": {},
     "output_type": "execute_result"
    }
   ],
   "source": [
    "df.groupBy('street_address').count().sort(\"count\",ascending=False).first()"
   ]
  },
  {
   "attachments": {},
   "cell_type": "markdown",
   "metadata": {},
   "source": [
    "## N1.Calculate the 10 most common surnames among men and women respectively"
   ]
  },
  {
   "cell_type": "code",
   "execution_count": 17,
   "metadata": {},
   "outputs": [
    {
     "data": {
      "text/plain": [
       "[Row(last='YILMAZ', count=352338),\n",
       " Row(last='KAYA', count=244272),\n",
       " Row(last='DEMIR', count=231289),\n",
       " Row(last='SAHIN', count=201958),\n",
       " Row(last='CELIK', count=199622),\n",
       " Row(last='YILDIZ', count=195162),\n",
       " Row(last='YILDIRIM', count=191966),\n",
       " Row(last='OZTURK', count=178610),\n",
       " Row(last='AYDIN', count=177894),\n",
       " Row(last='OZDEMIR', count=164085)]"
      ]
     },
     "execution_count": 17,
     "metadata": {},
     "output_type": "execute_result"
    }
   ],
   "source": [
    "df1n = df.select('gender','last')\n",
    "# 男性中最常见的10个姓\n",
    "df1n.filter('gender=\"E\"').groupBy('last').count().sort(\"count\",ascending=False).limit(10).collect()"
   ]
  },
  {
   "cell_type": "code",
   "execution_count": 18,
   "metadata": {},
   "outputs": [
    {
     "data": {
      "text/plain": [
       "[Row(last='YILMAZ', count=355954),\n",
       " Row(last='KAYA', count=244100),\n",
       " Row(last='DEMIR', count=230428),\n",
       " Row(last='SAHIN', count=202155),\n",
       " Row(last='CELIK', count=199330),\n",
       " Row(last='YILDIZ', count=194060),\n",
       " Row(last='YILDIRIM', count=192835),\n",
       " Row(last='OZTURK', count=180292),\n",
       " Row(last='AYDIN', count=178501),\n",
       " Row(last='OZDEMIR', count=165924)]"
      ]
     },
     "execution_count": 18,
     "metadata": {},
     "output_type": "execute_result"
    }
   ],
   "source": [
    "# 女性中最常见的10个姓\n",
    "df1n.filter('gender=\"K\"').groupBy('last').count().sort(\"count\",ascending=False).limit(10).collect()"
   ]
  },
  {
   "attachments": {},
   "cell_type": "markdown",
   "metadata": {},
   "source": [
    "## N2.Calculate the average age of citizens in each city, statistical analysis of the degree of population aging in each city, determine whether the current city is in an aging society\n",
    "A country or region is in an aging society when 10% of the total population is over 60 years old or 7% of the total population is over 65 years old"
   ]
  },
  {
   "cell_type": "code",
   "execution_count": 28,
   "metadata": {},
   "outputs": [],
   "source": [
    "df2n = df.select('address_city', (now - F.year('date_of_birth')).alias('age'))"
   ]
  },
  {
   "cell_type": "code",
   "execution_count": 9,
   "metadata": {},
   "outputs": [
    {
     "data": {
      "text/plain": [
       "[Row(address_city='ADANA', avg(age)=52.35311124200533),\n",
       " Row(address_city='DENIZLI', avg(age)=54.73589370796754),\n",
       " Row(address_city='BALIKESIR', avg(age)=57.40910203545882),\n",
       " Row(address_city='TRABZON', avg(age)=55.07750336119169),\n",
       " Row(address_city='BILECIK', avg(age)=56.017741433462554),\n",
       " Row(address_city='GIRESUN', avg(age)=57.46172045323453),\n",
       " Row(address_city='ARTVIN', avg(age)=57.52355755469229),\n",
       " Row(address_city='ZONGULDAK', avg(age)=54.86486356333262),\n",
       " Row(address_city='ISTANBUL', avg(age)=52.04195010450876),\n",
       " Row(address_city='ERZURUM', avg(age)=52.195794399332236),\n",
       " Row(address_city='IGDIR', avg(age)=51.041278115648225),\n",
       " Row(address_city='NEVSEHIR', avg(age)=55.09681560717092),\n",
       " Row(address_city='MANISA', avg(age)=55.39183795836534),\n",
       " Row(address_city='BITLIS', avg(age)=49.462793925634905),\n",
       " Row(address_city='BURSA', avg(age)=53.89901605269567),\n",
       " Row(address_city='IZMIR', avg(age)=54.83091460690687),\n",
       " Row(address_city='VAN', avg(age)=48.501663045815654),\n",
       " Row(address_city='HAKKARI', avg(age)=47.72470975668876),\n",
       " Row(address_city='BOLU', avg(age)=56.54688712228839),\n",
       " Row(address_city='CORUM', avg(age)=56.21261223746194),\n",
       " Row(address_city='ERZINCAN', avg(age)=55.23328445027611),\n",
       " Row(address_city='KIRKLARELI', avg(age)=57.094957547733884),\n",
       " Row(address_city='NIGDE', avg(age)=53.61496481925952),\n",
       " Row(address_city='AMASYA', avg(age)=56.67638579450207),\n",
       " Row(address_city='AFYONKARAHISAR', avg(age)=54.815300046372485),\n",
       " Row(address_city='KILIS', avg(age)=53.45409385377538),\n",
       " Row(address_city='AYDIN', avg(age)=56.1651933098107),\n",
       " Row(address_city='KAYSERI', avg(age)=53.02469754028665),\n",
       " Row(address_city='MALATYA', avg(age)=53.511160408564756),\n",
       " Row(address_city='BURDUR', avg(age)=57.76179800712434),\n",
       " Row(address_city='KAHRAMANMARAS', avg(age)=52.01399555226094),\n",
       " Row(address_city='BATMAN', avg(age)=48.90758005541983),\n",
       " Row(address_city='ANKARA', avg(age)=53.40483745238469),\n",
       " Row(address_city='KUTAHYA', avg(age)=55.76308796079437),\n",
       " Row(address_city='SINOP', avg(age)=59.118295321676726),\n",
       " Row(address_city='CANKIRI', avg(age)=57.93615222321436),\n",
       " Row(address_city='KIRIKKALE', avg(age)=54.689190831038395),\n",
       " Row(address_city='AKSARAY', avg(age)=52.74308171559425),\n",
       " Row(address_city='ESKISEHIR', avg(age)=54.96438433823647),\n",
       " Row(address_city='ORDU', avg(age)=56.103721894977035),\n",
       " Row(address_city='SIVAS', avg(age)=54.57918449097527),\n",
       " Row(address_city='SIRNAK', avg(age)=47.890262964579044),\n",
       " Row(address_city='KASTAMONU', avg(age)=58.79529900166574),\n",
       " Row(address_city='CANAKKALE', avg(age)=57.79960022209883),\n",
       " Row(address_city='TUNCELI', avg(age)=55.627907397686755),\n",
       " Row(address_city='ELAZIG', avg(age)=53.28283244246413),\n",
       " Row(address_city='AGRI', avg(age)=49.06807782476613),\n",
       " Row(address_city='KARS', avg(age)=52.0962512829703),\n",
       " Row(address_city='SAKARYA', avg(age)=54.17057538041088),\n",
       " Row(address_city='SANLIURFA', avg(age)=48.72166279834038),\n",
       " Row(address_city='BAYBURT', avg(age)=54.46703097273754),\n",
       " Row(address_city='DUZCE', avg(age)=54.6000008687418),\n",
       " Row(address_city='ADIYAMAN', avg(age)=51.1969178470898),\n",
       " Row(address_city='DIYARBAKIR', avg(age)=49.14241941643847),\n",
       " Row(address_city='MUS', avg(age)=49.01330694155921),\n",
       " Row(address_city='SIIRT', avg(age)=49.6853747573904),\n",
       " Row(address_city='MUGLA', avg(age)=55.297081585468845),\n",
       " Row(address_city='GUMUSHANE', avg(age)=55.57424034325021),\n",
       " Row(address_city='ANTALYA', avg(age)=53.29202386358784),\n",
       " Row(address_city='EDIRNE', avg(age)=57.31056605801658),\n",
       " Row(address_city='KARABUK', avg(age)=56.91138103877733),\n",
       " Row(address_city='TOKAT', avg(age)=55.424470400498556),\n",
       " Row(address_city='YALOVA', avg(age)=55.713607873000996),\n",
       " Row(address_city='ISPARTA', avg(age)=55.56709690568711),\n",
       " Row(address_city='KARAMAN', avg(age)=54.54536905246035),\n",
       " Row(address_city='TEKIRDAG', avg(age)=53.78390919737492),\n",
       " Row(address_city='RIZE', avg(age)=55.23417223407604),\n",
       " Row(address_city='OSMANIYE', avg(age)=52.695420461257626),\n",
       " Row(address_city='KOCAELI', avg(age)=52.283245008839),\n",
       " Row(address_city='BARTIN', avg(age)=56.82777673721671),\n",
       " Row(address_city='KIRSEHIR', avg(age)=55.09656777560994),\n",
       " Row(address_city='MARDIN', avg(age)=49.70044881852823),\n",
       " Row(address_city='GAZIANTEP', avg(age)=50.51446039742543),\n",
       " Row(address_city='SAMSUN', avg(age)=54.88339037756626),\n",
       " Row(address_city='ARDAHAN', avg(age)=54.81400949175457),\n",
       " Row(address_city='HATAY', avg(age)=52.41912932138284),\n",
       " Row(address_city='USAK', avg(age)=55.401355948757185),\n",
       " Row(address_city='KONYA', avg(age)=53.48646183872995),\n",
       " Row(address_city='BINGOL', avg(age)=50.36123421227565),\n",
       " Row(address_city='MERSIN', avg(age)=53.408252329440835),\n",
       " Row(address_city='YOZGAT', avg(age)=54.431038474426536)]"
      ]
     },
     "execution_count": 9,
     "metadata": {},
     "output_type": "execute_result"
    }
   ],
   "source": [
    "# 统计每个城市市民平均年龄\n",
    "df2n.groupBy('address_city').avg('age').collect()"
   ]
  },
  {
   "cell_type": "code",
   "execution_count": 42,
   "metadata": {},
   "outputs": [
    {
     "data": {
      "text/plain": [
       "[('ISTANBUL', True),\n",
       " ('IZMIR', True),\n",
       " ('KONYA', True),\n",
       " ('KAHRAMANMARAS', True),\n",
       " ('MUGLA', True),\n",
       " ('MUS', True),\n",
       " ('NEVSEHIR', True),\n",
       " ('SAKARYA', True),\n",
       " ('SIIRT', True),\n",
       " ('SANLIURFA', True),\n",
       " ('YOZGAT', True),\n",
       " ('ZONGULDAK', True),\n",
       " ('KARAMAN', True),\n",
       " ('BATMAN', True),\n",
       " ('YALOVA', True),\n",
       " ('OSMANIYE', True),\n",
       " ('AFYONKARAHISAR', True),\n",
       " ('AGRI', True),\n",
       " ('AKSARAY', True),\n",
       " ('AMASYA', True),\n",
       " ('ARDAHAN', True),\n",
       " ('ARTVIN', True),\n",
       " ('TEKIRDAG', True),\n",
       " ('BURSA', True),\n",
       " ('BARTIN', True),\n",
       " ('BAYBURT', True),\n",
       " ('DUZCE', True),\n",
       " ('HATAY', True),\n",
       " ('IGDIR', True),\n",
       " ('KARABUK', True),\n",
       " ('KILIS', True),\n",
       " ('SIRNAK', True),\n",
       " ('ANKARA', True),\n",
       " ('BILECIK', True),\n",
       " ('DENIZLI', True),\n",
       " ('USAK', True),\n",
       " ('AYDIN', True),\n",
       " ('BINGOL', True),\n",
       " ('CANKIRI', True),\n",
       " ('MARDIN', True),\n",
       " ('KOCAELI', True),\n",
       " ('TUNCELI', True),\n",
       " ('BALIKESIR', True),\n",
       " ('BOLU', True),\n",
       " ('CANAKKALE', True),\n",
       " ('CORUM', True),\n",
       " ('DIYARBAKIR', True),\n",
       " ('ELAZIG', True),\n",
       " ('ERZINCAN', True),\n",
       " ('ERZURUM', True),\n",
       " ('ESKISEHIR', True),\n",
       " ('GAZIANTEP', True),\n",
       " ('GIRESUN', True),\n",
       " ('KASTAMONU', True),\n",
       " ('KAYSERI', True),\n",
       " ('KIRSEHIR', True),\n",
       " ('KUTAHYA', True),\n",
       " ('MALATYA', True),\n",
       " ('NIGDE', True),\n",
       " ('ORDU', True),\n",
       " ('RIZE', True),\n",
       " ('SAMSUN', True),\n",
       " ('SINOP', True),\n",
       " ('SIVAS', True),\n",
       " ('TOKAT', True),\n",
       " ('TRABZON', True),\n",
       " ('VAN', True),\n",
       " ('MANISA', True),\n",
       " ('BITLIS', True),\n",
       " ('GUMUSHANE', True),\n",
       " ('HAKKARI', True),\n",
       " ('ISPARTA', True),\n",
       " ('KARS', True),\n",
       " ('KIRIKKALE', True),\n",
       " ('KIRKLARELI', True),\n",
       " ('ADANA', True),\n",
       " ('ADIYAMAN', True),\n",
       " ('ANTALYA', True),\n",
       " ('BURDUR', True),\n",
       " ('EDIRNE', True),\n",
       " ('MERSIN', True)]"
      ]
     },
     "execution_count": 42,
     "metadata": {},
     "output_type": "execute_result"
    }
   ],
   "source": [
    "# 统计每个城市的人口老龄化程度\n",
    "def agedOrNot(x):\n",
    "    # x:age\n",
    "    # return: (1, more than 60, more than 65)\n",
    "    if type(x)==type(1):\n",
    "        if x > 65: \n",
    "            return (1,1,1)\n",
    "        elif x <= 65 and x > 60:\n",
    "            return (1,1,0)\n",
    "        else:\n",
    "            return (1,0,0)\n",
    "    # 剔除无效数据\n",
    "    else: return (0,0,0)\n",
    "\n",
    "# 第一次Map返回（1, 是否大于60, 是否大于65） Reduce分别统计各个城市（总人数，60-65人数，65以上人数）第二次Map判断是否老龄化\n",
    "ans = df2n.rdd.mapValues(agedOrNot).reduceByKey(lambda x,y: (x[0] + y[0],x[1] + y[1],x[2] + y[2]))\\\n",
    "                                          .mapValues(lambda x:(x[1]/x[0] >= 0.1) or (x[2]/x[0] >= 0.07))\n",
    "ans.collect()"
   ]
  },
  {
   "attachments": {},
   "cell_type": "markdown",
   "metadata": {},
   "source": [
    "## N3.Calculate which 2 months have the highest concentration of population birthdays in each of the top 10 most populous cities in the country"
   ]
  },
  {
   "cell_type": "code",
   "execution_count": 6,
   "metadata": {},
   "outputs": [],
   "source": [
    "# 选择城市及出生月份\n",
    "df3n = df.select('address_city', F.month('date_of_birth').alias('month'))\n",
    "\n",
    "# 计算前十大人口城市\n",
    "top10 = df3n.groupBy('address_city').count().sort(\"count\",ascending=False).limit(10).rdd.keys().collect()\n",
    "\n",
    "# 选出在前10大人口城市中的数据\n",
    "ans = df3n.filter(df3n.address_city.isin(top10)).groupBy('address_city','month').count()"
   ]
  },
  {
   "cell_type": "code",
   "execution_count": 9,
   "metadata": {},
   "outputs": [
    {
     "data": {
      "text/plain": [
       "[Row(address_city='ADANA', month=1, count=275752, rank=1),\n",
       " Row(address_city='ADANA', month=3, count=134666, rank=2),\n",
       " Row(address_city='ANKARA', month=1, count=451654, rank=1),\n",
       " Row(address_city='ANKARA', month=3, count=318381, rank=2),\n",
       " Row(address_city='ANTALYA', month=1, count=207515, rank=1),\n",
       " Row(address_city='ANTALYA', month=3, count=134869, rank=2),\n",
       " Row(address_city='AYDIN', month=1, count=193666, rank=1),\n",
       " Row(address_city='AYDIN', month=3, count=143498, rank=2),\n",
       " Row(address_city='BURSA', month=1, count=245047, rank=1),\n",
       " Row(address_city='BURSA', month=3, count=177832, rank=2),\n",
       " Row(address_city='ISTANBUL', month=1, count=1229999, rank=1),\n",
       " Row(address_city='ISTANBUL', month=3, count=883712, rank=2),\n",
       " Row(address_city='IZMIR', month=1, count=383830, rank=1),\n",
       " Row(address_city='IZMIR', month=3, count=281419, rank=2),\n",
       " Row(address_city='KOCAELI', month=1, count=138940, rank=1),\n",
       " Row(address_city='KOCAELI', month=3, count=104624, rank=2),\n",
       " Row(address_city='KONYA', month=1, count=204326, rank=1),\n",
       " Row(address_city='KONYA', month=3, count=138044, rank=2),\n",
       " Row(address_city='MERSIN', month=1, count=189803, rank=1),\n",
       " Row(address_city='MERSIN', month=3, count=110875, rank=2)]"
      ]
     },
     "execution_count": 9,
     "metadata": {},
     "output_type": "execute_result"
    }
   ],
   "source": [
    "# 用Window筛选每个城市出生月份数排前二的月份\n",
    "windowTmp = Window.partitionBy('address_city').orderBy(F.desc('count'))\n",
    "ans = ans.withColumn('rank', F.rank().over(windowTmp))\n",
    "ans.filter(ans.rank.isin([1,2])).orderBy('address_city','rank').collect()\n"
   ]
  },
  {
   "attachments": {},
   "cell_type": "markdown",
   "metadata": {},
   "source": [
    "## N4.Calculate the top 3 surnames in each of the top 10 most populous cities in the country and analyzing whether there is a correlation between the surnames and the cities in which they are located"
   ]
  },
  {
   "cell_type": "code",
   "execution_count": 36,
   "metadata": {},
   "outputs": [],
   "source": [
    "df4n = df.select('address_city','last').filter(df.address_city.isin(top10)).groupBy('address_city','last').count()"
   ]
  },
  {
   "cell_type": "code",
   "execution_count": 37,
   "metadata": {},
   "outputs": [
    {
     "data": {
      "text/plain": [
       "[Row(address_city='ADANA', last='DEMIR', count=11550, rank=3),\n",
       " Row(address_city='ADANA', last='KAYA', count=13187, rank=2),\n",
       " Row(address_city='ADANA', last='YILMAZ', count=16223, rank=1),\n",
       " Row(address_city='ANKARA', last='OZTURK', count=28448, rank=3),\n",
       " Row(address_city='ANKARA', last='SAHIN', count=32057, rank=2),\n",
       " Row(address_city='ANKARA', last='YILMAZ', count=47957, rank=1),\n",
       " Row(address_city='ANTALYA', last='CELIK', count=12092, rank=3),\n",
       " Row(address_city='ANTALYA', last='KAYA', count=12566, rank=2),\n",
       " Row(address_city='ANTALYA', last='YILMAZ', count=21057, rank=1),\n",
       " Row(address_city='AYDIN', last='DEMIR', count=11420, rank=3),\n",
       " Row(address_city='AYDIN', last='KAYA', count=11812, rank=2),\n",
       " Row(address_city='AYDIN', last='YILMAZ', count=14884, rank=1),\n",
       " Row(address_city='BURSA', last='AYDIN', count=19775, rank=2),\n",
       " Row(address_city='BURSA', last='OZTURK', count=17426, rank=3),\n",
       " Row(address_city='BURSA', last='YILMAZ', count=27399, rank=1),\n",
       " Row(address_city='ISTANBUL', last='DEMIR', count=78231, rank=3),\n",
       " Row(address_city='ISTANBUL', last='KAYA', count=87341, rank=2),\n",
       " Row(address_city='ISTANBUL', last='YILMAZ', count=139142, rank=1),\n",
       " Row(address_city='IZMIR', last='DEMIR', count=19304, rank=3),\n",
       " Row(address_city='IZMIR', last='KAYA', count=22358, rank=2),\n",
       " Row(address_city='IZMIR', last='YILMAZ', count=33515, rank=1),\n",
       " Row(address_city='KOCAELI', last='AYDIN', count=9795, rank=2),\n",
       " Row(address_city='KOCAELI', last='KAYA', count=9645, rank=3),\n",
       " Row(address_city='KOCAELI', last='YILMAZ', count=16922, rank=1),\n",
       " Row(address_city='KONYA', last='CELIK', count=10076, rank=2),\n",
       " Row(address_city='KONYA', last='KAYA', count=9673, rank=3),\n",
       " Row(address_city='KONYA', last='YILMAZ', count=14200, rank=1),\n",
       " Row(address_city='MERSIN', last='KAYA', count=10356, rank=3),\n",
       " Row(address_city='MERSIN', last='SAHIN', count=11593, rank=2),\n",
       " Row(address_city='MERSIN', last='YILMAZ', count=15786, rank=1)]"
      ]
     },
     "execution_count": 37,
     "metadata": {},
     "output_type": "execute_result"
    }
   ],
   "source": [
    "windowTmp = Window.partitionBy('address_city').orderBy(F.desc('count'))\n",
    "ans = df4n.withColumn('rank', F.rank().over(windowTmp))\n",
    "# 筛选出每个城市的前3大姓氏\n",
    "ans = ans.filter(ans.rank.isin([1,2,3])).orderBy('address_city','last')\n",
    "ans.collect()"
   ]
  },
  {
   "cell_type": "code",
   "execution_count": 19,
   "metadata": {},
   "outputs": [],
   "source": [
    "# Correlation\n",
    "from pyspark.ml.stat import ChiSquareTest\n",
    "from pyspark.ml.feature import ChiSqSelector,StringIndexer,OneHotEncoder"
   ]
  },
  {
   "cell_type": "code",
   "execution_count": 16,
   "metadata": {},
   "outputs": [],
   "source": [
    "# 选出各城市前3大姓氏\n",
    "toplast = ans.select(\"last\").distinct().rdd.keys().collect()"
   ]
  },
  {
   "cell_type": "code",
   "execution_count": 25,
   "metadata": {},
   "outputs": [],
   "source": [
    "df4n2 = df.select('address_city','last').filter(df.address_city.isin(top10)).filter(df.last.isin(toplast))\n",
    "# FeatureHasher\n",
    "# 编码last为features\n",
    "indexer = StringIndexer(inputCol='last',outputCol='idx_last')\n",
    "df4n2 = indexer.fit(df4n2).transform(df4n2)\n",
    "encoder = OneHotEncoder(inputCol=\"idx_last\",outputCol=\"features_last\",dropLast=False)\n",
    "df4n2 = encoder.fit(df4n2).transform(df4n2)\n",
    "\n",
    "# StringIndexer\n",
    "# 编码address_city为label\n",
    "indexer_city = StringIndexer(inputCol='address_city',outputCol='label_city')\n",
    "df4n2 = indexer_city.fit(df4n2).transform(df4n2)"
   ]
  },
  {
   "cell_type": "code",
   "execution_count": 32,
   "metadata": {},
   "outputs": [
    {
     "name": "stdout",
     "output_type": "stream",
     "text": [
      "+------------+------+----------------+------------------+\n",
      "|featureIndex|pValue|degreesOfFreedom|         statistic|\n",
      "+------------+------+----------------+------------------+\n",
      "|           4|   0.0|               9|2810.6355566718426|\n",
      "|           0|   0.0|               9| 980.3022768048272|\n",
      "|           1|   0.0|               9|1414.4098275084275|\n",
      "|           6|   0.0|               9| 6016.043747519692|\n",
      "|           3|   0.0|               9| 4874.593242869912|\n",
      "|           5|   0.0|               9| 5535.835919822795|\n",
      "|           2|   0.0|               9|1239.7706094808013|\n",
      "+------------+------+----------------+------------------+\n",
      "\n"
     ]
    }
   ],
   "source": [
    "test = ChiSquareTest.test(df4n2,'features_last','label_city',True)\n",
    "test.show()"
   ]
  }
 ],
 "metadata": {
  "kernelspec": {
   "display_name": "Python 3",
   "language": "python",
   "name": "python3"
  },
  "language_info": {
   "codemirror_mode": {
    "name": "ipython",
    "version": 3
   },
   "file_extension": ".py",
   "mimetype": "text/x-python",
   "name": "python",
   "nbconvert_exporter": "python",
   "pygments_lexer": "ipython3",
   "version": "3.8.9"
  },
  "vscode": {
   "interpreter": {
    "hash": "31f2aee4e71d21fbe5cf8b01ff0e069b9275f58929596ceb00d14d90e3e16cd6"
   }
  }
 },
 "nbformat": 4,
 "nbformat_minor": 4
}
